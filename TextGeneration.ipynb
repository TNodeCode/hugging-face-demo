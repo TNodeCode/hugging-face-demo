{
 "cells": [
  {
   "cell_type": "markdown",
   "id": "d759462a-ab49-43a5-8652-e52d38a215b5",
   "metadata": {},
   "source": [
    "# Text Generation"
   ]
  },
  {
   "cell_type": "code",
   "execution_count": 1,
   "id": "7cb218c5-7638-41c7-af8d-6f6a50151ed9",
   "metadata": {},
   "outputs": [
    {
     "name": "stdout",
     "output_type": "stream",
     "text": [
      "Requirement already satisfied: protobuf==3.20.* in c:\\users\\tilof\\appdata\\local\\programs\\python\\python310\\lib\\site-packages (3.20.3)Note: you may need to restart the kernel to use updated packages.\n",
      "\n"
     ]
    },
    {
     "name": "stderr",
     "output_type": "stream",
     "text": [
      "WARNING: Ignoring invalid distribution -rotobuf (c:\\users\\tilof\\appdata\\local\\programs\\python\\python310\\lib\\site-packages)\n",
      "WARNING: Ignoring invalid distribution -rotobuf (c:\\users\\tilof\\appdata\\local\\programs\\python\\python310\\lib\\site-packages)\n",
      "C:\\Users\\tilof\\AppData\\Local\\Programs\\Python\\Python310\\lib\\site-packages\\torch\\cuda\\__init__.py:651: UserWarning: CUDA initialization: CUDA unknown error - this may be due to an incorrectly set up environment, e.g. changing env variable CUDA_VISIBLE_DEVICES after program start. Setting the available devices to be zero. (Triggered internally at ..\\c10\\cuda\\CUDAFunctions.cpp:109.)\n",
      "  return torch._C._cuda_getDeviceCount() if nvml_count < 0 else nvml_count\n"
     ]
    }
   ],
   "source": [
    "%pip install --upgrade protobuf==3.20.*\n",
    "from transformers import pipeline"
   ]
  },
  {
   "cell_type": "code",
   "execution_count": 7,
   "id": "874789b0-291e-423a-9654-6c19c803ef89",
   "metadata": {},
   "outputs": [],
   "source": [
    "# Load a text generation model. The name of the model is 'distilgpt2'\n",
    "model = pipeline(\"text-generation\", model=\"distilgpt2\")"
   ]
  },
  {
   "cell_type": "code",
   "execution_count": 8,
   "id": "b37e4b12-876e-4961-a4a0-85580ef0f399",
   "metadata": {},
   "outputs": [
    {
     "name": "stderr",
     "output_type": "stream",
     "text": [
      "Setting `pad_token_id` to `eos_token_id`:50256 for open-end generation.\n"
     ]
    },
    {
     "name": "stdout",
     "output_type": "stream",
     "text": [
      "In this course I will teach you the methods used to create an Angular app:\n",
      "\n",
      "\n",
      "\n",
      "\n",
      "\n",
      "\n",
      "\n",
      "\n",
      "There are a few cool features here:\n",
      "\n",
      "\n",
      "-\n",
      "\n",
      "\n",
      "-\n",
      "\n",
      "So much for a quick example:\n",
      "\n",
      "In this course I will teach you the basics of running in your favorite language. You can get started by writing a little book using some of my most popular tools and learning how to write complex projects using my Java language. I'll be teaching you how\n",
      "\n",
      "In this course I will teach you the importance of understanding both a language as a human being and a spiritual entity, so that you think of yourself as your self, and think of yourself as being as an individual and not as a person. I believe\n",
      "\n",
      "In this course I will teach you how to manipulate my personal self through simple manipulations of my emotions. I hope this topic will help some in my therapy, especially if it helps.\n",
      "\n",
      "A little bit below are some exercises that you can use\n",
      "\n",
      "In this course I will teach you how to run your application on JavaScript/C++ in a bit more detail.\n",
      "\n",
      "In this course I will teach you a lot of the topics and questions you need to plan into the course. I will show you the basic methods of this course. I will show you how to set up your computer with the basic basics of the various\n",
      "\n",
      "In this course I will teach you everything about the different kinds of plants you need for any kind of plant type. As your primary source of inspiration, I want you to help you and my other students to build the best life possible for you. We\n",
      "\n",
      "In this course I will teach you the use of a different set of skills within the application that make sense to you. I will go through the basics of the basic skills you need to become a professional programmer. I need to help you develop your business\n",
      "\n",
      "In this course I will teach you how to write beautiful, well thought out words and actions that are difficult to use. When using this course, you will be faced with many of the issues I have been having with my writing.\n",
      "\n",
      "I was\n",
      "\n",
      "In this course I will teach you an in-between tutorial on how to apply to be a musician and the concept of ‪The World . As time goes on, there should be a much bigger picture to be had.‭\n",
      "\n",
      "\n",
      "\n"
     ]
    }
   ],
   "source": [
    "# This is the sentence the model will have to complete\n",
    "text = \"In this course I will teach you\"\n",
    "\n",
    "# The number of sentences the model will generate\n",
    "num_return_sequences = 10\n",
    "\n",
    "# The maximum number of words that the generated sentences will have\n",
    "max_length = 50\n",
    "\n",
    "# Run the sentence through the model.\n",
    "generated_sentences = model(\n",
    "    text,\n",
    "    max_length=max_length,\n",
    "    num_return_sequences=num_return_sequences\n",
    ")\n",
    "\n",
    "for s in generated_sentences:\n",
    "    print(s[\"generated_text\"] + \"\\n\")"
   ]
  },
  {
   "cell_type": "code",
   "execution_count": null,
   "id": "b093d9c4-9c45-48f9-8ab5-8cf0f1e2e85c",
   "metadata": {},
   "outputs": [],
   "source": []
  }
 ],
 "metadata": {
  "kernelspec": {
   "display_name": "Python 3 (ipykernel)",
   "language": "python",
   "name": "python3"
  },
  "language_info": {
   "codemirror_mode": {
    "name": "ipython",
    "version": 3
   },
   "file_extension": ".py",
   "mimetype": "text/x-python",
   "name": "python",
   "nbconvert_exporter": "python",
   "pygments_lexer": "ipython3",
   "version": "3.10.6"
  }
 },
 "nbformat": 4,
 "nbformat_minor": 5
}
