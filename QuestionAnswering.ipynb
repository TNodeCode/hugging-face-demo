{
 "cells": [
  {
   "cell_type": "markdown",
   "id": "231187a4-b98e-47f5-86a3-94170cde60e2",
   "metadata": {},
   "source": [
    "# Question Answering"
   ]
  },
  {
   "cell_type": "code",
   "execution_count": 2,
   "id": "763c09e0-62de-4b7c-9bb3-8726e24a7dd3",
   "metadata": {},
   "outputs": [
    {
     "name": "stdout",
     "output_type": "stream",
     "text": [
      "Requirement already satisfied: protobuf==3.20.* in c:\\users\\tilof\\appdata\\local\\programs\\python\\python310\\lib\\site-packages (3.20.3)\n",
      "Note: you may need to restart the kernel to use updated packages.\n"
     ]
    },
    {
     "name": "stderr",
     "output_type": "stream",
     "text": [
      "WARNING: Ignoring invalid distribution -rotobuf (c:\\users\\tilof\\appdata\\local\\programs\\python\\python310\\lib\\site-packages)\n",
      "WARNING: Ignoring invalid distribution -rotobuf (c:\\users\\tilof\\appdata\\local\\programs\\python\\python310\\lib\\site-packages)\n"
     ]
    }
   ],
   "source": [
    "%pip install --upgrade protobuf==3.20.*\n",
    "from transformers import pipeline"
   ]
  },
  {
   "cell_type": "code",
   "execution_count": 9,
   "id": "43d89b25-355a-4a8b-93f9-ac9581ffe6b2",
   "metadata": {},
   "outputs": [
    {
     "name": "stderr",
     "output_type": "stream",
     "text": [
      "No model was supplied, defaulted to distilbert-base-cased-distilled-squad and revision 626af31 (https://huggingface.co/distilbert-base-cased-distilled-squad).\n",
      "Using a pipeline without specifying a model name and revision in production is not recommended.\n"
     ]
    }
   ],
   "source": [
    "# Load a question answering model.\n",
    "model = pipeline(\"question-answering\")\n",
    "\n",
    "# This is the text containing the information\n",
    "context = \"I am a software developer living in Frankfurt. I mainly use Java and Python for programming\"\n",
    "\n",
    "# These are the questions we need an answer for\n",
    "question1 = \"Where do I live?\"\n",
    "question2 = \"What are my main programming languages?\""
   ]
  },
  {
   "cell_type": "code",
   "execution_count": 12,
   "id": "be031264-c5f6-462a-9491-d59a82690b86",
   "metadata": {},
   "outputs": [
    {
     "data": {
      "text/plain": [
       "'Frankfurt'"
      ]
     },
     "execution_count": 12,
     "metadata": {},
     "output_type": "execute_result"
    }
   ],
   "source": [
    "# Running context and question 1 through the model\n",
    "res = model(\n",
    "    question=question1,\n",
    "    context=context\n",
    ")\n",
    "\n",
    "# print the answer\n",
    "res[\"answer\"]"
   ]
  },
  {
   "cell_type": "code",
   "execution_count": 13,
   "id": "ccbc4d8c-e0ac-40c0-ae9c-f8ca115548ec",
   "metadata": {},
   "outputs": [
    {
     "data": {
      "text/plain": [
       "'Java and Python'"
      ]
     },
     "execution_count": 13,
     "metadata": {},
     "output_type": "execute_result"
    }
   ],
   "source": [
    "# Running context and question 2 through the model\n",
    "res = model(\n",
    "    question=question2,\n",
    "    context=context\n",
    ")\n",
    "\n",
    "# print the answer\n",
    "res[\"answer\"]"
   ]
  },
  {
   "cell_type": "code",
   "execution_count": null,
   "id": "fc0a8c56-4cf9-4bd8-b7f8-df6238c73f70",
   "metadata": {},
   "outputs": [],
   "source": []
  }
 ],
 "metadata": {
  "kernelspec": {
   "display_name": "Python 3 (ipykernel)",
   "language": "python",
   "name": "python3"
  },
  "language_info": {
   "codemirror_mode": {
    "name": "ipython",
    "version": 3
   },
   "file_extension": ".py",
   "mimetype": "text/x-python",
   "name": "python",
   "nbconvert_exporter": "python",
   "pygments_lexer": "ipython3",
   "version": "3.10.6"
  }
 },
 "nbformat": 4,
 "nbformat_minor": 5
}
