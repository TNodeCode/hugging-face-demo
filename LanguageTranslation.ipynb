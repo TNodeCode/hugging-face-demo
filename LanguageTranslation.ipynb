{
 "cells": [
  {
   "cell_type": "markdown",
   "id": "af721fff-cbba-400e-8285-0bd6776e3a37",
   "metadata": {},
   "source": [
    "# Language Translation\n",
    "\n",
    "Model: (298MB)"
   ]
  },
  {
   "cell_type": "code",
   "execution_count": 18,
   "id": "ededa13e-5f71-451e-a770-e9e4c0599ec5",
   "metadata": {},
   "outputs": [],
   "source": [
    "# You need to install the following packages for this model\n",
    "\n",
    "#%pip install transformers sentencepiece protobuf==3.20.0"
   ]
  },
  {
   "cell_type": "code",
   "execution_count": 21,
   "id": "01bc2e90-ba3f-405a-abe8-9b35d7a256ea",
   "metadata": {},
   "outputs": [
    {
     "name": "stdout",
     "output_type": "stream",
     "text": [
      "German to English:\n",
      "\n",
      "Ladies and gentlemen, welcome to our conference on one of the most exciting topics of these days: artificial intelligence. Learn which models are available and how they can be used in your company.\n",
      "\n",
      "\n",
      "English to German:\n",
      "\n",
      "Im heutigen Programm empfehlen wir Ihnen eine Präsentation über künstliche Intelligenz. Dies findet um 16.00 Uhr im großen Hörsaal statt.\n"
     ]
    }
   ],
   "source": [
    "from transformers import MarianMTModel, MarianTokenizer\n",
    "\n",
    "def translate_text(text, src_lang, tgt_lang):\n",
    "    # First specify the name of the model\n",
    "    model_name = f'Helsinki-NLP/opus-mt-{src_lang}-{tgt_lang}'\n",
    "    \n",
    "    # Load the pretrained model\n",
    "    model = MarianMTModel.from_pretrained(model_name)\n",
    "    \n",
    "    # Create a text tokenizer\n",
    "    tokenizer = MarianTokenizer.from_pretrained(model_name)\n",
    "\n",
    "    # Tokenize the text\n",
    "    inputs = tokenizer.encode(text, return_tensors='pt')\n",
    "    \n",
    "    # Run tokens through the model and get the output tokens\n",
    "    outputs = model.generate(inputs, max_length=128, num_beams=4, early_stopping=True)\n",
    "    \n",
    "    # Translate output tokens to text\n",
    "    translated_text = tokenizer.decode(outputs[0], skip_special_tokens=True)\n",
    "\n",
    "    return translated_text\n",
    "\n",
    "# Example usage\n",
    "german_text = \"Sehr geehrte Damen und Herren, willkommen zu unserer Konferenz zu einem der spannensten Themen dieser Tage: die künstliche Intelligenz. Erfahren Sie, welche Modelle es gibt und wie sie diese in Ihrem Unternehen einsetzen können.\"\n",
    "english_text = \"In today's program, we would like to recommend you a presentation on artificial intelligence. This will take place at 4 pm in the large lecture hall.\"\n",
    "\n",
    "# Translate from German to English\n",
    "translated_german_to_english = translate_text(german_text, 'de', 'en')\n",
    "print(f\"German to English:\\n\\n{translated_german_to_english}\")\n",
    "\n",
    "# Translate from English to German\n",
    "translated_english_to_german = translate_text(english_text, 'en', 'de')\n",
    "print(f\"\\n\\nEnglish to German:\\n\\n{translated_english_to_german}\")"
   ]
  },
  {
   "cell_type": "code",
   "execution_count": null,
   "id": "862769b6-a26a-4aa1-8ae0-3425ca92a72e",
   "metadata": {},
   "outputs": [],
   "source": []
  }
 ],
 "metadata": {
  "kernelspec": {
   "display_name": "Python 3 (ipykernel)",
   "language": "python",
   "name": "python3"
  },
  "language_info": {
   "codemirror_mode": {
    "name": "ipython",
    "version": 3
   },
   "file_extension": ".py",
   "mimetype": "text/x-python",
   "name": "python",
   "nbconvert_exporter": "python",
   "pygments_lexer": "ipython3",
   "version": "3.10.6"
  }
 },
 "nbformat": 4,
 "nbformat_minor": 5
}
