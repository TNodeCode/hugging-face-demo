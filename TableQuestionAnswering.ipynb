{
 "cells": [
  {
   "cell_type": "markdown",
   "id": "5d78f740-b429-4da7-9453-e8e6b094d59e",
   "metadata": {},
   "source": [
    "# Table Question Answering"
   ]
  },
  {
   "cell_type": "code",
   "execution_count": 1,
   "id": "af9f4d44-dfe4-44fb-b059-a8a82bd9b2c6",
   "metadata": {},
   "outputs": [
    {
     "name": "stderr",
     "output_type": "stream",
     "text": [
      "WARNING: Ignoring invalid distribution -rotobuf (c:\\users\\tilof\\appdata\\local\\programs\\python\\python310\\lib\\site-packages)\n",
      "WARNING: Ignoring invalid distribution -rotobuf (c:\\users\\tilof\\appdata\\local\\programs\\python\\python310\\lib\\site-packages)\n"
     ]
    },
    {
     "name": "stdout",
     "output_type": "stream",
     "text": [
      "Requirement already satisfied: protobuf==3.20.* in c:\\users\\tilof\\appdata\\local\\programs\\python\\python310\\lib\\site-packages (3.20.3)\n",
      "Note: you may need to restart the kernel to use updated packages.\n"
     ]
    },
    {
     "name": "stderr",
     "output_type": "stream",
     "text": [
      "C:\\Users\\tilof\\AppData\\Local\\Programs\\Python\\Python310\\lib\\site-packages\\torch\\cuda\\__init__.py:651: UserWarning: CUDA initialization: CUDA unknown error - this may be due to an incorrectly set up environment, e.g. changing env variable CUDA_VISIBLE_DEVICES after program start. Setting the available devices to be zero. (Triggered internally at ..\\c10\\cuda\\CUDAFunctions.cpp:109.)\n",
      "  return torch._C._cuda_getDeviceCount() if nvml_count < 0 else nvml_count\n"
     ]
    }
   ],
   "source": [
    "%pip install --upgrade protobuf==3.20.*\n",
    "from transformers import pipeline"
   ]
  },
  {
   "cell_type": "code",
   "execution_count": 9,
   "id": "0b1b3df5-6214-4de5-aa7e-39442aef3bb2",
   "metadata": {},
   "outputs": [
    {
     "name": "stderr",
     "output_type": "stream",
     "text": [
      "No model was supplied, defaulted to google/tapas-base-finetuned-wtq and revision 69ceee2 (https://huggingface.co/google/tapas-base-finetuned-wtq).\n",
      "Using a pipeline without specifying a model name and revision in production is not recommended.\n"
     ]
    },
    {
     "data": {
      "application/vnd.jupyter.widget-view+json": {
       "model_id": "6c4336db54364b66bb599afffb29ad7c",
       "version_major": 2,
       "version_minor": 0
      },
      "text/plain": [
       "Downloading (…)lve/main/config.json:   0%|          | 0.00/1.66k [00:00<?, ?B/s]"
      ]
     },
     "metadata": {},
     "output_type": "display_data"
    },
    {
     "data": {
      "application/vnd.jupyter.widget-view+json": {
       "model_id": "853d7a048d994027ae2bc830c33c520f",
       "version_major": 2,
       "version_minor": 0
      },
      "text/plain": [
       "Downloading pytorch_model.bin:   0%|          | 0.00/443M [00:00<?, ?B/s]"
      ]
     },
     "metadata": {},
     "output_type": "display_data"
    },
    {
     "data": {
      "application/vnd.jupyter.widget-view+json": {
       "model_id": "886eb9606c3444b1968b694ff8b28579",
       "version_major": 2,
       "version_minor": 0
      },
      "text/plain": [
       "Downloading (…)okenizer_config.json:   0%|          | 0.00/490 [00:00<?, ?B/s]"
      ]
     },
     "metadata": {},
     "output_type": "display_data"
    },
    {
     "data": {
      "application/vnd.jupyter.widget-view+json": {
       "model_id": "4d8dbb12557e4ea78424a68a8c55f99d",
       "version_major": 2,
       "version_minor": 0
      },
      "text/plain": [
       "Downloading (…)solve/main/vocab.txt:   0%|          | 0.00/262k [00:00<?, ?B/s]"
      ]
     },
     "metadata": {},
     "output_type": "display_data"
    },
    {
     "data": {
      "application/vnd.jupyter.widget-view+json": {
       "model_id": "83d1ee9b0d45413191e45ec720124aab",
       "version_major": 2,
       "version_minor": 0
      },
      "text/plain": [
       "Downloading (…)cial_tokens_map.json:   0%|          | 0.00/154 [00:00<?, ?B/s]"
      ]
     },
     "metadata": {},
     "output_type": "display_data"
    }
   ],
   "source": [
    "model = pipeline(task=\"table-question-answering\")"
   ]
  },
  {
   "cell_type": "code",
   "execution_count": 33,
   "id": "f8329d82-238b-4b44-ae60-f0dceb8ca06f",
   "metadata": {},
   "outputs": [],
   "source": [
    "# This is the data table containing the data\n",
    "table = {\n",
    "    \"Lecture\": [\"Programming 1\", \"Data Structures\", \"Statistics\"],\n",
    "    \"Duration in minutes\": [\"120\", \"120\", \"60\"],\n",
    "    \"Weekday\": [\"Thursday\", \"Tuesday\", \"Monday\"],\n",
    "    \"Start\": [\"10am\", \"12am\", \"10am\"],\n",
    "    \"End\": [\"12am\", \"14am\", \"11am\"],\n",
    "    \"Teacher\": [\"John Doe\", \"Jane Doe\", \"Lisa Smith\"],\n",
    "}"
   ]
  },
  {
   "cell_type": "code",
   "execution_count": 34,
   "id": "2cc1c11c-f689-428b-906e-67b490c1bec7",
   "metadata": {},
   "outputs": [],
   "source": [
    "# These are the questions we want to answer\n",
    "question1 = \"Who teaches statistics?\"\n",
    "question2 = \"When does the data structures lecture takes place?\"\n",
    "question3 = \"How long is the programming lecture?\""
   ]
  },
  {
   "cell_type": "code",
   "execution_count": 35,
   "id": "d9254eb6-37fb-4ee9-b88e-b54b9c72b129",
   "metadata": {},
   "outputs": [
    {
     "data": {
      "text/plain": [
       "{'answer': 'Lisa Smith',\n",
       " 'coordinates': [(2, 5)],\n",
       " 'cells': ['Lisa Smith'],\n",
       " 'aggregator': 'NONE'}"
      ]
     },
     "execution_count": 35,
     "metadata": {},
     "output_type": "execute_result"
    }
   ],
   "source": [
    "model(query=question1, table=table)"
   ]
  },
  {
   "cell_type": "code",
   "execution_count": 36,
   "id": "031fa355-c5fa-4e3b-a0a9-c48ba02456b9",
   "metadata": {},
   "outputs": [
    {
     "data": {
      "text/plain": [
       "{'answer': 'Tuesday',\n",
       " 'coordinates': [(1, 2)],\n",
       " 'cells': ['Tuesday'],\n",
       " 'aggregator': 'NONE'}"
      ]
     },
     "execution_count": 36,
     "metadata": {},
     "output_type": "execute_result"
    }
   ],
   "source": [
    "model(query=question2, table=table)"
   ]
  },
  {
   "cell_type": "code",
   "execution_count": 37,
   "id": "e79251cb-8c15-42a5-a7ee-bbaa7eae9d4a",
   "metadata": {},
   "outputs": [
    {
     "data": {
      "text/plain": [
       "{'answer': '120',\n",
       " 'coordinates': [(0, 1)],\n",
       " 'cells': ['120'],\n",
       " 'aggregator': 'NONE'}"
      ]
     },
     "execution_count": 37,
     "metadata": {},
     "output_type": "execute_result"
    }
   ],
   "source": [
    "model(query=question3, table=table)"
   ]
  },
  {
   "cell_type": "code",
   "execution_count": null,
   "id": "15bc3373-6850-4ea4-b9c7-1d092b74e13f",
   "metadata": {},
   "outputs": [],
   "source": []
  }
 ],
 "metadata": {
  "kernelspec": {
   "display_name": "Python 3 (ipykernel)",
   "language": "python",
   "name": "python3"
  },
  "language_info": {
   "codemirror_mode": {
    "name": "ipython",
    "version": 3
   },
   "file_extension": ".py",
   "mimetype": "text/x-python",
   "name": "python",
   "nbconvert_exporter": "python",
   "pygments_lexer": "ipython3",
   "version": "3.10.6"
  }
 },
 "nbformat": 4,
 "nbformat_minor": 5
}
